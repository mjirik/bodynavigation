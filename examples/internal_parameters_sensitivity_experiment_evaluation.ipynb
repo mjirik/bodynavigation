{
 "cells": [
  {
   "cell_type": "code",
   "execution_count": 2,
   "outputs": [
    {
     "name": "stdout",
     "output_type": "stream",
     "text": [
      "Populating the interactive namespace from numpy and matplotlib\n"
     ]
    }
   ],
   "source": [
    "%pylab inline"
   ],
   "metadata": {
    "collapsed": false,
    "pycharm": {
     "name": "#%%\n"
    }
   }
  },
  {
   "cell_type": "code",
   "execution_count": 3,
   "outputs": [
    {
     "name": "stdout",
     "output_type": "stream",
     "text": [
      "PyQt5 detected\n"
     ]
    },
    {
     "data": {
      "text/plain": "1"
     },
     "execution_count": 3,
     "metadata": {},
     "output_type": "execute_result"
    }
   ],
   "source": [
    "import os\n",
    "import os.path\n",
    "import pytest\n",
    "import os.path as op\n",
    "import sys\n",
    "import matplotlib.pyplot as plt\n",
    "import scipy\n",
    "import glob\n",
    "from pathlib import Path\n",
    "from datetime import datetime\n",
    "import copy\n",
    "\n",
    "sys.path.insert(0,str(Path(\"~/projects/io3d\").expanduser()))\n",
    "sys.path.insert(0,str(Path(\"~/projects/bodynavigation\").expanduser()))\n",
    "\n",
    "# import imtools.trainer3d\n",
    "# import imtools.datasets\n",
    "# import imtools.ml\n",
    "import itertools\n",
    "import io3d\n",
    "import sed3\n",
    "from loguru import logger\n",
    "import numpy as np\n",
    "import bodynavigation\n",
    "import imma\n",
    "import pandas as pd\n",
    "from matplotlib import pyplot as plt\n",
    "# logger.disable(\"io3d\")\n",
    "logger.remove()\n",
    "logger.add(sys.stderr, level='INFO')"
   ],
   "metadata": {
    "collapsed": false,
    "pycharm": {
     "name": "#%%\n"
    }
   }
  },
  {
   "cell_type": "code",
   "execution_count": 27,
   "outputs": [
    {
     "name": "stdout",
     "output_type": "stream",
     "text": [
      "C:\\Users\\Jirik\\projects\\bodynavigation\\tests\\internal_parameters_sensitivity_test.xlsx\n",
      "True\n"
     ]
    }
   ],
   "source": [
    "pth = Path(\".\").absolute().parent.absolute() / \"tests/internal_parameters_sensitivity_test.xlsx\"\n",
    "print(pth)\n",
    "print(pth.exists())\n",
    "df = pd.read_excel(pth, index_col=0)\n",
    "\n",
    "# df= df[df['koeff']!=1.]"
   ],
   "metadata": {
    "collapsed": false,
    "pycharm": {
     "name": "#%%\n"
    }
   }
  },
  {
   "cell_type": "code",
   "execution_count": 29,
   "outputs": [
    {
     "data": {
      "text/plain": "                                   mean             std     \n                                  error           error     \nkoeff                               0.2  1.0        0.2  1.0\nparam                                                       \n_symmetry_bones_threshold_hu  27.961634  0.0  37.422401  0.0\n_symmetry_gaussian_sigma_mm   27.211634  0.0  38.483061  0.0",
      "text/html": "<div>\n<style scoped>\n    .dataframe tbody tr th:only-of-type {\n        vertical-align: middle;\n    }\n\n    .dataframe tbody tr th {\n        vertical-align: top;\n    }\n\n    .dataframe thead tr th {\n        text-align: left;\n    }\n\n    .dataframe thead tr:last-of-type th {\n        text-align: right;\n    }\n</style>\n<table border=\"1\" class=\"dataframe\">\n  <thead>\n    <tr>\n      <th></th>\n      <th colspan=\"2\" halign=\"left\">mean</th>\n      <th colspan=\"2\" halign=\"left\">std</th>\n    </tr>\n    <tr>\n      <th></th>\n      <th colspan=\"2\" halign=\"left\">error</th>\n      <th colspan=\"2\" halign=\"left\">error</th>\n    </tr>\n    <tr>\n      <th>koeff</th>\n      <th>0.2</th>\n      <th>1.0</th>\n      <th>0.2</th>\n      <th>1.0</th>\n    </tr>\n    <tr>\n      <th>param</th>\n      <th></th>\n      <th></th>\n      <th></th>\n      <th></th>\n    </tr>\n  </thead>\n  <tbody>\n    <tr>\n      <th>_symmetry_bones_threshold_hu</th>\n      <td>27.961634</td>\n      <td>0.0</td>\n      <td>37.422401</td>\n      <td>0.0</td>\n    </tr>\n    <tr>\n      <th>_symmetry_gaussian_sigma_mm</th>\n      <td>27.211634</td>\n      <td>0.0</td>\n      <td>38.483061</td>\n      <td>0.0</td>\n    </tr>\n  </tbody>\n</table>\n</div>"
     },
     "execution_count": 29,
     "metadata": {},
     "output_type": "execute_result"
    }
   ],
   "source": [
    "pd.pivot_table(data=df, index=['param'], values=['error'], columns=['koeff'], aggfunc=[np.mean, np.std])"
   ],
   "metadata": {
    "collapsed": false,
    "pycharm": {
     "name": "#%%\n"
    }
   }
  },
  {
   "cell_type": "code",
   "execution_count": null,
   "outputs": [],
   "source": [],
   "metadata": {
    "collapsed": false,
    "pycharm": {
     "name": "#%%\n"
    }
   }
  }
 ],
 "metadata": {
  "kernelspec": {
   "display_name": "Python 3",
   "language": "python",
   "name": "python3"
  },
  "language_info": {
   "codemirror_mode": {
    "name": "ipython",
    "version": 2
   },
   "file_extension": ".py",
   "mimetype": "text/x-python",
   "name": "python",
   "nbconvert_exporter": "python",
   "pygments_lexer": "ipython2",
   "version": "2.7.6"
  }
 },
 "nbformat": 4,
 "nbformat_minor": 0
}